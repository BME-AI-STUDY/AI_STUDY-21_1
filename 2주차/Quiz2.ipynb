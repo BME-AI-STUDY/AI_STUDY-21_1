{
 "cells": [
  {
   "cell_type": "code",
   "execution_count": 4,
   "id": "assigned-superior",
   "metadata": {},
   "outputs": [],
   "source": [
    "import answer2"
   ]
  },
  {
   "cell_type": "markdown",
   "id": "religious-rebound",
   "metadata": {},
   "source": [
    "# Quiz 1"
   ]
  },
  {
   "cell_type": "markdown",
   "id": "horizontal-silly",
   "metadata": {},
   "source": [
    "+ 두 확률분포 사이의 관계를 나타내는 지표로 우리는 H(P,Q)라는 교차 엔트로피를 사용한다. 하지만 교차 엔트로피값은 딥러닝 학습에서는 확률 분포 Q를 정확히 알지 못하는 점, 그리고 학습에 이용되는 데이터들은 각각 다른 입력과 그에 따른 출력이라 확률 분포 Q가 고정된 확률 분포가 아니라는 점에서 어려움이 있다. 이를 해결하기 위하여 딥러닝 학습에서는 모범 답안으로 주어지는 레이블 정보를 입력에 따른 조건부 확률 분포로 P를 재해석하고 이를 이용해 교차 엔트로피를 계산하였다.\n",
    "이 방식을 이용하면, 주사위를 한번 던졌을 때 그 값이 6이 나왔다고 한다. 그렇다면 조건부 확률 분포는 어떻게 되어야 하는가?"
   ]
  },
  {
   "cell_type": "markdown",
   "id": "british-dryer",
   "metadata": {},
   "source": [
    "+ (-,-,-,-,-,-) 형식으로 입력하세요. (1~6순서)"
   ]
  },
  {
   "cell_type": "code",
   "execution_count": null,
   "id": "cross-upgrade",
   "metadata": {},
   "outputs": [],
   "source": [
    "answer2.check1()"
   ]
  },
  {
   "cell_type": "markdown",
   "id": "naval-training",
   "metadata": {},
   "source": [
    "# Quiz 2"
   ]
  },
  {
   "cell_type": "markdown",
   "id": "micro-lobby",
   "metadata": {},
   "source": [
    "+ 신경망의 성능을 평가할 수 있는 지표에는 아래와 같이 네 가지가 있다. 정확도(Accuracy), 정밀도(Precision), 재현율(Recall), F1값이 있다. 이 중에서 실제결과가 True일 때, 분류결과도 True임을 나타내는 지표를 (A), 분류결과가 True일 때, 실제결과도 True임을 나타내는 지표를 (B)라고 한다. (A)와 (B)를 모두 높을수록 좋은 모델이라 할 수 있는데 이를 나타내는 지표는 (C)이다.\n",
    "\n",
    "다음 (A), (B), (C)에 차례로 들어갈 단어로 올바른 것은?\n",
    "\n",
    "+ 1.정확도, 정밀도, 재현율\n",
    "+ 2.정밀도, 정확도, 재현율\n",
    "+ 3.정밀도, 재현율, F1\n",
    "+ 4.재현율, 정밀도, F1\n",
    "+ 5.재현율, 정확도, F1"
   ]
  },
  {
   "cell_type": "code",
   "execution_count": null,
   "id": "capital-action",
   "metadata": {},
   "outputs": [],
   "source": [
    "answer = None\n",
    "answer2.check2(answer)"
   ]
  },
  {
   "cell_type": "markdown",
   "id": "temporal-operations",
   "metadata": {},
   "source": [
    "# Quiz 3"
   ]
  },
  {
   "cell_type": "markdown",
   "id": "approximate-anniversary",
   "metadata": {},
   "source": [
    "1. P, Q 두 확률 분포가 같을 때, P에 대한 Q의 교차 엔트로피와 P의 정보 엔트로피 값이 같아진다.(O/X)\n",
    "2. 참이라고 추정한 것의 정답이 틀린 케이스만 줄인다고하면, F1은 감소한다.(O/X)\n",
    "3. Regularization에서 람다는 학습 중에 계속 수정되는 값이다.(O/X)\n",
    "4. Multiclass SVM 보다 Softmax classifier 가 정답 클래스의 스코어 변동에 대해 예민하다.(O/X)\n",
    "순서대로 O,X를 입력하시오 (ex: ooox)"
   ]
  },
  {
   "cell_type": "code",
   "execution_count": null,
   "id": "competent-parker",
   "metadata": {},
   "outputs": [],
   "source": [
    "answer2.check3()"
   ]
  },
  {
   "cell_type": "markdown",
   "id": "latest-inquiry",
   "metadata": {},
   "source": [
    "# Quiz 4"
   ]
  },
  {
   "cell_type": "markdown",
   "id": "fifty-siemens",
   "metadata": {},
   "source": [
    "SVM loss를 이용할 때 학습이 제대로 시작됐는지 확인하려면\n",
    "loss 값이 _____인지 확인한다. \n",
    "\n",
    "그리고 이 과정을 ________라고 한다.\n",
    "SVM은 ________때문에 score 를 jiggle했을 때\n",
    "loss값이 불변하여 softmax loss에 비해 둔감하다 "
   ]
  },
  {
   "cell_type": "markdown",
   "id": "cognitive-country",
   "metadata": {},
   "source": [
    "1. the number of class-1/sanity check/ safety margin\n",
    "2. sanity check/ safety margin/ the number of class-1\n",
    "3. sanity check/ the number of class-1/ safety margin\n",
    "4. safety margin/ sanity check/ the number of class-1\n",
    "5. safety margin/ the number of class-1/ safety margin"
   ]
  },
  {
   "cell_type": "code",
   "execution_count": null,
   "id": "abstract-heritage",
   "metadata": {},
   "outputs": [],
   "source": [
    "answer2.check4()"
   ]
  },
  {
   "cell_type": "markdown",
   "id": "affected-hammer",
   "metadata": {},
   "source": [
    "# Quiz 5"
   ]
  },
  {
   "cell_type": "markdown",
   "id": "brazilian-coupon",
   "metadata": {},
   "source": [
    "![image](image_quiz5.png)"
   ]
  },
  {
   "cell_type": "markdown",
   "id": "convertible-arrangement",
   "metadata": {},
   "source": [
    "+ 순서대로 입력하시오(그림에 나와있는대로 스펠링을 지켜 입력하시오)\n",
    "\n",
    "(단, Label Data는 Label Data라고 입력하시오)"
   ]
  },
  {
   "cell_type": "code",
   "execution_count": null,
   "id": "charged-gallery",
   "metadata": {},
   "outputs": [],
   "source": [
    "ans1 = input(\"1 : \")\n",
    "ans2 = input(\"2 : \")\n",
    "ans3 = input(\"3 : \")\n",
    "ans4 = input(\"4 : \")\n",
    "ans5 = input(\"5 : \")\n",
    "\n",
    "answer2.check5(ans1, ans2, ans3, ans4, ans5)"
   ]
  },
  {
   "cell_type": "markdown",
   "id": "proved-program",
   "metadata": {},
   "source": [
    "# Quiz 6"
   ]
  },
  {
   "cell_type": "markdown",
   "id": "thrown-coalition",
   "metadata": {},
   "source": [
    "+ Q. 다음 중 L2 regularization에 가장 적합한 weight는? \n",
    "+ 1. W1 = [1, 0, 0, 0]\n",
    "+ 2. W2 = [0, 0.5 0, 0.5]\n",
    "+ 3. W3 = [0.25, 0.25, 0.25, 0.25]\n",
    "+ 4. W4 = [0.5, 0.25, 0.125, 0.125]\n",
    "+ 5. None"
   ]
  },
  {
   "cell_type": "code",
   "execution_count": null,
   "id": "complete-hearts",
   "metadata": {},
   "outputs": [],
   "source": [
    "answer = int(input())\n",
    "answer2.check6(answer)"
   ]
  },
  {
   "cell_type": "markdown",
   "id": "informal-county",
   "metadata": {},
   "source": [
    "# Quiz 7 "
   ]
  },
  {
   "cell_type": "markdown",
   "id": "flush-level",
   "metadata": {},
   "source": [
    "+ Q. 다음 중 틀린 것을 고르시오.\n",
    "    1. Regularization(정규화)는 Loss값을 증가시키는 등 model의 훈련에 제약을 걸어주는 역할을 한다.\n",
    "    2. Binary Classification(이진 분류)문제의 loss function으로 MSE(Mean Square Error)를 사용할 수 없다.\n",
    "    3. Cross-entropy는 두 확률 분포가 얼마나 다른지 숫자 하나로 나타내주는 정량적 지표이다.\n",
    "    4. 정밀도, 재현율, f1값은 loss function으로 사용할 수 없다.\n",
    "    5. Hinge loss의 최소값은 0, 최대값은 무한대이다."
   ]
  },
  {
   "cell_type": "code",
   "execution_count": null,
   "id": "respected-tumor",
   "metadata": {},
   "outputs": [],
   "source": [
    "answer = int(input())\n",
    "answer2.check7(answer)"
   ]
  },
  {
   "cell_type": "markdown",
   "id": "featured-evening",
   "metadata": {},
   "source": [
    "# Quiz 8"
   ]
  },
  {
   "cell_type": "code",
   "execution_count": null,
   "id": "wooden-midnight",
   "metadata": {},
   "outputs": [],
   "source": [
    "for i in range(num_train) :\n",
    "    data_batch = sample_training_data(data, batch_size)\n",
    "    weights_grad, bias_grad, loss = evaluate_gradient(loss_function, data_batch, weights) \n",
    "    weights += -step_size * weights_grad\n",
    "    bias += -step_size * bias_grad"
   ]
  },
  {
   "cell_type": "markdown",
   "id": "exempt-graphic",
   "metadata": {},
   "source": [
    "위는 gradient descent algorithm의 일부이다. 이 수도 코드 중 우리가 설정할 수 있는 hyper_parameters의 수는? \n",
    "그리고 step_size를 너무 크게 혹은 너무 작게 설정할경우 어떤일이 일어날지 다같이 토의해보자! \n",
    "(단, loss_function은 hyper parameter로 치지않는다.)  "
   ]
  },
  {
   "cell_type": "code",
   "execution_count": null,
   "id": "divine-manner",
   "metadata": {},
   "outputs": [],
   "source": [
    "answer = int(input())\n",
    "answer2.check8(answer)"
   ]
  },
  {
   "cell_type": "markdown",
   "id": "operating-delay",
   "metadata": {},
   "source": [
    "# Quiz9"
   ]
  },
  {
   "cell_type": "markdown",
   "id": "inner-butter",
   "metadata": {},
   "source": [
    "+ 다음 중 옳은 것을 고르시오.\n",
    "1. SVM이 Softmax보다 스코어 값의 변화에 더 민감하기 때문에 스코어 값을 조금만 바꾸어 주어도 loss값이 바뀐다.\n",
    "2. Weight Regularization 항을 도입함으로써 training data set에 대한 error값을 줄일 수 있다.\n",
    "3. Numerical gradient는 정확하고 빠르지만, 코딩 오류 발생이 쉽다.\n",
    "4. L2 regularization의 경우 weight를 가능한 최대로 spread out하여 모든 input feature들을 고려하는 것을 선호한다."
   ]
  },
  {
   "cell_type": "code",
   "execution_count": null,
   "id": "entitled-underwear",
   "metadata": {},
   "outputs": [],
   "source": [
    "answer = int(input())\n",
    "answer2.check9(answer)"
   ]
  },
  {
   "cell_type": "markdown",
   "id": "proud-andrew",
   "metadata": {},
   "source": [
    "# Quiz 10"
   ]
  },
  {
   "cell_type": "markdown",
   "id": "intelligent-region",
   "metadata": {},
   "source": [
    "+ 시그모이드 함수를 나타낼 때 입력값이 음수일 때 계산방법을 달리해야 하는가? O or X"
   ]
  },
  {
   "cell_type": "code",
   "execution_count": null,
   "id": "golden-helen",
   "metadata": {},
   "outputs": [],
   "source": [
    "answer = None\n",
    "answer2.check10(answer)"
   ]
  },
  {
   "cell_type": "markdown",
   "id": "protected-spending",
   "metadata": {},
   "source": [
    "# Quiz 11"
   ]
  },
  {
   "cell_type": "markdown",
   "id": "streaming-ticket",
   "metadata": {},
   "source": [
    "+ 다음과 같은 confusion matrix가 있습니다. Accuracy, Precision, Recall 값을 각각 계산하세요!~\n",
    "+ (True가 병 있음/ False가 normal)\n",
    "\n",
    "+ 필요하다면 소수점 셋째자리에서 반올림 해주세요. (ex 0.972 = 0.97)"
   ]
  },
  {
   "cell_type": "markdown",
   "id": "closed-laundry",
   "metadata": {},
   "source": [
    "<img src=\"image_quiz11.jpg\" height=\"900px\" width=\"900px\">"
   ]
  },
  {
   "cell_type": "code",
   "execution_count": null,
   "id": "democratic-stomach",
   "metadata": {},
   "outputs": [],
   "source": [
    "accuracy =None\n",
    "precision=None\n",
    "recall=None\n",
    "\n",
    "\n",
    "answer_1= [accuracy, precision, recall]\n",
    "answer2.check11(answer_1)"
   ]
  },
  {
   "cell_type": "markdown",
   "id": "silent-victoria",
   "metadata": {},
   "source": [
    "# Quiz 12 "
   ]
  },
  {
   "cell_type": "markdown",
   "id": "hydraulic-circular",
   "metadata": {},
   "source": [
    "미니배치 데이터들을 정답이 참인지 거짓인지에 따라 T(True), F(False)의 두 집단으로 나뉘고 추정이 참인지 거짓인지에 따라 P(Positive), N(Negative)롤 나뉜다. 다음 중 정밀도(precision)를 잘 표현한 것은??(참고 : 재현율(recall) = 정답이 참인 것 중에서 신경망이 참으로 추정한 것 / 정답이 참인 것)\n",
    "\n",
    "1. (TP) / (TP + FP)\n",
    "2. (TP) / (TP + TN)\n",
    "3. (TP + TN) / (TP + TN + FP + FN)"
   ]
  },
  {
   "cell_type": "code",
   "execution_count": null,
   "id": "parental-count",
   "metadata": {},
   "outputs": [],
   "source": [
    "a = int(input())\n",
    "answer2.check12(a)"
   ]
  },
  {
   "cell_type": "markdown",
   "id": "limited-belarus",
   "metadata": {},
   "source": [
    "# Quiz 13"
   ]
  },
  {
   "cell_type": "markdown",
   "id": "affecting-bradford",
   "metadata": {},
   "source": [
    "아래의 질문들에 O,X로 답해라. (ex, 정답은 OXOOX 와 같은 형식으로 작성)\n",
    "1. Regularization은 model이 더 단순한 가중치(W)를 선택하도록 도와준다. (O,X)\n",
    "2. Regularization은 model이 training data set에 완벽히 fit하지 못하도록 복잡도에 penalty를 부여한다. (O,X)\n",
    "3. Softmax classifier는 정답 score가 일정선(margin)을 넘기만 하면 더이상 성능 개선에 신경을 쓰지않는다. (O,X)\n",
    "4. Numerical gradient를 debugging tool로 사용할때는 parameter의 scale을 키우고 사용해야한다. (O,X)\n",
    "5. 입력값 X의 모든 요소가 가중치 W에 골고루 영향을 미치길 원한다면 L2 Regularization을 사용해야한다. (O,X)"
   ]
  },
  {
   "cell_type": "code",
   "execution_count": null,
   "id": "caring-master",
   "metadata": {},
   "outputs": [],
   "source": [
    "answer_2 = input()\n",
    "answer2.check13(answer_2)"
   ]
  },
  {
   "cell_type": "markdown",
   "id": "offshore-filter",
   "metadata": {},
   "source": [
    "# Quiz 14"
   ]
  },
  {
   "cell_type": "markdown",
   "id": "coupled-sharing",
   "metadata": {},
   "source": [
    "(1) 정보 엔트로피가 커질수록, 확률 분포의 불확실성은 작아진다. (맞으면 0, 틀리면 1)\n",
    "\n",
    "(2) 정보 엔트로피가 커질수록, 정보량이 많아져 결과에 대한 예측이 쉽다. (맞으면 0, 틀리면 1) (정답은 001, 110 이런식으로...)"
   ]
  },
  {
   "cell_type": "code",
   "execution_count": null,
   "id": "elder-richmond",
   "metadata": {},
   "outputs": [],
   "source": [
    "answer_3 = int(input())\n",
    "answer2.check14_1(answer_3)"
   ]
  },
  {
   "cell_type": "markdown",
   "id": "suspended-substance",
   "metadata": {},
   "source": [
    "(3) 00 0000는 확률분포가 서로 얼마나 다른지 나타내주는 정량적 지표 역할을 한다.\n",
    "\n",
    "(4) (3)의 00 0000은 어떻게 정량적 지표 역할을 하는지?\n",
    "\n",
    "(5) 시그모이드 함수 정의식 도출 과정?"
   ]
  },
  {
   "cell_type": "code",
   "execution_count": null,
   "id": "handled-deadline",
   "metadata": {},
   "outputs": [],
   "source": [
    "answer_4 = ' '\n",
    "\n",
    "answer2.check14_2(answer_4)"
   ]
  },
  {
   "cell_type": "markdown",
   "id": "graduate-tolerance",
   "metadata": {},
   "source": [
    "# Quiz 15"
   ]
  },
  {
   "cell_type": "markdown",
   "id": "diverse-times",
   "metadata": {},
   "source": [
    "`sanity check`라는 말은 우리말로 직역하면 \"제정신인지 확인한다.\" 라는 뜻이다. SW개발 쪽에서는 새롭게 추가된 기능이나 버그를 수정하고 난 뒤 그 기능에 대해서만 테스트를 진행하는 것을 말한다.   \n",
    "딥러닝에서도 모델이 정상적으로 작동하는지 확인하기 위해 이러한 sanity check를 진행하는데 보통 initial loss가 이론값과 맞게 나오는지를 확인하는 방식으로 진행한다. 강의에서 소개한 SVM loss function과 Softmax loss function의 경우 가중치를 0에 가까운 값으로 설정했을 때의 Loss 값을 바탕으로 sanity check를 진행한다.    \n",
    "\n",
    "--------\n",
    "\n",
    "\n",
    "SVM의 경우, 분류하려는 class의 개수가 C개이고 가중치가 0에 가까운 값일때, Loss 값은   \n",
    "1) C+1   \n",
    "2) C    \n",
    "3) C-1   \n",
    "4) C/2   \n",
    "이고, Softmax의 경우 분류하려는 class의 개수가 C개이고 마찬가지로 가중치가 0에 가까운 값이면 Loss 값은     \n",
    "1) -log(C/2)   \n",
    "2) -log(2/C)   \n",
    "3) -log(1/C)   \n",
    "4) -log(1/(C-1))  \n",
    "이다. \n",
    "\n",
    "위의 보기에서 알맞은 선택지를 고르시오. "
   ]
  },
  {
   "cell_type": "code",
   "execution_count": null,
   "id": "duplicate-accent",
   "metadata": {},
   "outputs": [],
   "source": [
    "print(\"숫자만 적어주세요!\")\n",
    "answer_5 = input(\"1번 정답 : \")\n",
    "answer_6 = input(\"2번 정답 : \")\n",
    "answer2.check15_1(answer_5)\n",
    "answer2.check15_2(answer_6)"
   ]
  }
 ],
 "metadata": {
  "kernelspec": {
   "display_name": "Python 3",
   "language": "python",
   "name": "python3"
  },
  "language_info": {
   "codemirror_mode": {
    "name": "ipython",
    "version": 3
   },
   "file_extension": ".py",
   "mimetype": "text/x-python",
   "name": "python",
   "nbconvert_exporter": "python",
   "pygments_lexer": "ipython3",
   "version": "3.8.5"
  }
 },
 "nbformat": 4,
 "nbformat_minor": 5
}
