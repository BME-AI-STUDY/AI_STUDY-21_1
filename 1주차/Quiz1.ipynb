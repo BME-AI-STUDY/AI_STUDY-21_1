{
 "cells": [
  {
   "cell_type": "code",
   "execution_count": 1,
   "metadata": {},
   "outputs": [],
   "source": [
    "import answer1\n",
    "import numpy as np"
   ]
  },
  {
   "cell_type": "markdown",
   "metadata": {},
   "source": [
    "# Quiz 1"
   ]
  },
  {
   "cell_type": "markdown",
   "metadata": {},
   "source": [
    "+ Q: Choose the right answers for the blanks.\n",
    "+       training data로 NN-classifier를 동작시키면 그 정확도는 ( )이고 \n",
    "+       training data로 k-NN classifier(k>1)를 동작 시킬 시,  그 정확도는 ( )이다.\n",
    "                (빈칸은 0, 25, 50, 75, 100, cant know 중 하나입니다.)"
   ]
  },
  {
   "cell_type": "code",
   "execution_count": null,
   "metadata": {},
   "outputs": [],
   "source": [
    "answer_1 = input(\"첫 번쨰 빈칸은? : \")"
   ]
  },
  {
   "cell_type": "code",
   "execution_count": null,
   "metadata": {},
   "outputs": [],
   "source": [
    "answer_2 = input(\"두 번쨰 빈칸은? : \")"
   ]
  },
  {
   "cell_type": "code",
   "execution_count": null,
   "metadata": {},
   "outputs": [],
   "source": [
    "if answer1.check1(answer_1, answer_2) == 1:\n",
    "    print(\"정답입니다\")\n",
    "else: \n",
    "    print(\"틀렸습니다.\")"
   ]
  },
  {
   "cell_type": "markdown",
   "metadata": {},
   "source": [
    "# Quiz 2"
   ]
  },
  {
   "cell_type": "markdown",
   "metadata": {},
   "source": [
    "+ Q:Choose the right answers for the blanks.\n",
    "+ 머신러닝 모델에서 데이터는 training set, _________ set, test set으로 분류하는 것이 좋다. 특히, _________ set은 구현하고자 하는 모델의 성능을 평가하는 용도로 사용된다. 모델의 성능을 평가하므로써 test set에 대한 정확도를 가늠해볼 수 있다. 뿐만 아니라, training accuracy와 _________ accuracy를 비교함으로써 overfitting이 일어났을 가능성을 고려할 수 있다. 빈칸에 공통으로 들어갈 단어는 무엇일까요?"
   ]
  },
  {
   "cell_type": "code",
   "execution_count": null,
   "metadata": {},
   "outputs": [],
   "source": [
    "answer = input(\"빈칸에 들어갈 말은?\")"
   ]
  },
  {
   "cell_type": "code",
   "execution_count": null,
   "metadata": {},
   "outputs": [],
   "source": [
    "if answer1.check2(answer) == 1:\n",
    "    print(\"정답입니다\")\n",
    "else: \n",
    "    print(\"틀렸습니다.\")"
   ]
  },
  {
   "cell_type": "markdown",
   "metadata": {},
   "source": [
    "# Quiz 3"
   ]
  },
  {
   "cell_type": "markdown",
   "metadata": {},
   "source": [
    "+ Q3: 하이퍼 파라미터는 학습과정에 영향을 미치는 상숫값인데, 작성자에 의해서 학습 전에 선택이 필요한 파라미터 값이다. 이는 _____, 에포크, 미니 배치 크기와 같은 값들이 있는데, 이중 _____  이 작을수록 학습시간이 길어지며,  지역적 바닥점에 갇힐 위험이 커지고, ____ 이 커질수록 손실 함수값이 바닥점에 도달하지 못한 채 바닥점 근처를 맴돌 수 있다. ____는 무엇인가?"
   ]
  },
  {
   "cell_type": "code",
   "execution_count": null,
   "metadata": {},
   "outputs": [],
   "source": [
    "answer = input(\"빈칸에 들어갈 말은?\")"
   ]
  },
  {
   "cell_type": "code",
   "execution_count": null,
   "metadata": {},
   "outputs": [],
   "source": [
    "if answer1.check3(answer) == 1:\n",
    "    print(\"정답입니다\")\n",
    "else: \n",
    "    print(\"틀렸습니다.\")"
   ]
  },
  {
   "cell_type": "markdown",
   "metadata": {},
   "source": [
    "# Quiz 6"
   ]
  },
  {
   "cell_type": "markdown",
   "metadata": {},
   "source": [
    "+ Q. How does classification speed depend on the size of the training data? (답 번호로 대답)\n",
    "   1. constantly\n",
    "   2. linearly\n",
    "   3. exponentially\n",
    "   4. depend on the situation\n",
    "   5. None"
   ]
  },
  {
   "cell_type": "code",
   "execution_count": null,
   "metadata": {},
   "outputs": [],
   "source": [
    "answer = int(input())\n",
    "\n",
    "answer1.check6(answer)"
   ]
  },
  {
   "cell_type": "markdown",
   "metadata": {},
   "source": [
    "# Quiz 7 "
   ]
  },
  {
   "cell_type": "markdown",
   "metadata": {},
   "source": [
    "+ Q. 다음 중 옳지 않은 것을 고르시오!\n",
    "   1. Training data 전체에 대한 한 차례 처리를 1 epoch(에폭, 이폭)이라 한다.\n",
    "   2. Loss function은 cost function이라고도 부르는데, 미분 가능하고 항상 0 이상이며 추정이 정확해 질수록 값이 작아진다는 성질이 있다.\n",
    "   3. 경사 하강법을 무한히 반복하면 loss function의 전역 최솟값(global minimum)에 도달할 수 있다는 것을 보장할 수 있다.\n",
    "   4. Validation data는 하이퍼파라미터를 설정하기 위한 data set이다.\n",
    "   5. K-fold-cross-validation은 training data를 k개의 fold로 만들어 1번 fold부터 k번 fold까지 돌아가면서 validation data로 사용하는 방법이다."
   ]
  },
  {
   "cell_type": "code",
   "execution_count": null,
   "metadata": {},
   "outputs": [],
   "source": [
    "answer = int(input())\n",
    "\n",
    "answer1.check7(answer)"
   ]
  },
  {
   "cell_type": "code",
   "execution_count": 2,
   "metadata": {},
   "outputs": [
    {
     "data": {
      "image/png": "[encoded data removed]",
      "text/plain": [
       "<Figure size 432x288 with 1 Axes>"
      ]
     },
     "metadata": {
      "needs_background": "light"
     },
     "output_type": "display_data"
    }
   ],
   "source": [
    "# 해설을 도와주기 위한 시각화 함수입니다!\n",
    "answer1.plot_quiz7()"
   ]
  },
  {
   "cell_type": "markdown",
   "metadata": {},
   "source": [
    "# Quiz 8 "
   ]
  },
  {
   "cell_type": "markdown",
   "metadata": {},
   "source": [
    "+ Q. W * X + B = Y 꼴의 single layer perceptron 이 있다. X = (10,m), Y = (1,m) 일때 W 와 B의 shape(demension)을 쓰시오.\n",
    "+ Q. 또한 이경우 back-propagation을 진행할때 \"dC/dX\"를 \"dC/dY\"를 이용한 수식으로 표현하시오.(여기서 * 는 행렬의 외적이며, m은 데이터의 개수이다.)"
   ]
  },
  {
   "cell_type": "code",
   "execution_count": null,
   "metadata": {},
   "outputs": [],
   "source": [
    "answer_1 = None\n",
    "answer_2 = (None)   \n",
    "answer_3 = \"자유롭게 서술해보세요\"\n",
    "answer1.check8_1(answer_1)\n",
    "answer1.check8_2(answer_2)\n",
    "answer1.check8_3(answer_3)"
   ]
  },
  {
   "cell_type": "markdown",
   "metadata": {},
   "source": [
    "# Quiz 9 "
   ]
  },
  {
   "cell_type": "markdown",
   "metadata": {},
   "source": [
    "+ X의 Feature이 5개이고 label이 3인 m개의 data set이 있다. 이 data set를 바탕으로 WX+B=Y의 단층 퍼셉트론을 구상하였을때 원핫 벡터를 사용하지 않을경우의 parameters 의 수를 구하시고, 이 경우 Y의 shape를 쓰세요."
   ]
  },
  {
   "cell_type": "code",
   "execution_count": null,
   "metadata": {},
   "outputs": [],
   "source": [
    "m = 0\n",
    "\n",
    "answer_1 = None\n",
    "answer_2 = None \n",
    "answer1.check9_1(answer_1)\n",
    "answer1.check9_2(answer_2)"
   ]
  },
  {
   "cell_type": "markdown",
   "metadata": {},
   "source": [
    "# Quiz10"
   ]
  },
  {
   "cell_type": "markdown",
   "metadata": {},
   "source": [
    "+ hyperparameter를 tune하기 위해 n개의 동일한 그룹을 만들어 여러가지 검증 셋을 통해 hyperparameter의 성능을 평가하는 검증과정을 무엇이라 할까?"
   ]
  },
  {
   "cell_type": "code",
   "execution_count": null,
   "metadata": {},
   "outputs": [],
   "source": [
    "answer = No\n",
    "\n",
    "answer1.check10(answer)"
   ]
  },
  {
   "cell_type": "markdown",
   "metadata": {},
   "source": [
    "# Quiz 11"
   ]
  },
  {
   "cell_type": "markdown",
   "metadata": {},
   "source": [
    "abalone dataset으로 단층 퍼셉트론 신경망을 사용하여 성별을 예측하려고 한다.\n",
    "\n",
    "(Sex, Length, Diameter, Height, Whole weight, Shucked weight, Viscera weight, Shell weight, Rings -> 총 9개의 특징, sex는 세 종류-M,F,I)\n",
    "\n",
    "mini batch size는 10일 때 다음의 행렬 or 벡터의 크기는?"
   ]
  },
  {
   "cell_type": "markdown",
   "metadata": {},
   "source": [
    "1) 입력 행렬 shape [a,b]\n",
    "\n",
    "2) weight 행렬 shape [a,b]\n",
    "\n",
    "3) bias vector shape [a]\n",
    "\n",
    "4) 출력 행렬 shape [a,b]"
   ]
  },
  {
   "cell_type": "code",
   "execution_count": null,
   "metadata": {},
   "outputs": [],
   "source": [
    "answer_1 = 'a,b'\n",
    "answer_2 = 'a,b'\n",
    "answer_3 = 'a'\n",
    "answer_4 = 'a,b'\n",
    "\n",
    "\n",
    "answer= [answer_1, answer_2, answer_3, answer_4]\n",
    "answer1.check11(answer)"
   ]
  },
  {
   "cell_type": "markdown",
   "metadata": {},
   "source": [
    "# Quiz 12"
   ]
  },
  {
   "cell_type": "markdown",
   "metadata": {},
   "source": [
    "1. Neigherist Neighbor 에서 train 메서드의 시간 복잡도가 predict 메서드보다  작다 (o, x)\n",
    "2. L1 L2중 outlier에 민감하게 반응하는 것은 L1 이다.(o, x)\n",
    "3. KNN에서 K값이나 어떤 distance를 사용하는 지에 대한 hyperparameter 문제는 cross-validation으로 완화된다.(o, x)"
   ]
  },
  {
   "cell_type": "code",
   "execution_count": null,
   "metadata": {},
   "outputs": [],
   "source": [
    "answer = []\n",
    "\n",
    "answer_1 = None\n",
    "answer_2 = None\n",
    "answer_3 = None\n",
    "\n",
    "answer.append(answer_1)\n",
    "answer.append(answer_2)\n",
    "answer.append(answer_3)\n",
    "\n",
    "answer1.check12(answer)"
   ]
  },
  {
   "cell_type": "markdown",
   "metadata": {},
   "source": [
    "# Quiz 13"
   ]
  },
  {
   "cell_type": "markdown",
   "metadata": {},
   "source": [
    "+ RMSE 함수는 MSE에 루트(√)를 씌운 것으로 MSE와 기본적으로 동일하다. MSE 값은 오류의 제곱을 구하기 때문에 실제 오류 평균보다 더 커지는 특성이 있어 MSE에 루트를 씌운 RMSE 은 값의 왜곡을 줄여준다.\n",
    "+ 전복의 고리 수 추정 신경망 실행 예제에서 손실함수를 MSE가 아닌 RMSE를 사용하여 첫 에포크 처리시 accuray 와 final accuracy의 값을 구해보자. (단, 정답은 소수이며 소숫점 셋째자리 까지 입력한다. 손실함수 값이 아닌 다른 변수들의 설정값은 전복의 고리 수 추정 신경망 실행 예제와 동일하다.)"
   ]
  },
  {
   "cell_type": "markdown",
   "metadata": {},
   "source": [
    "![image](image.jpg)"
   ]
  },
  {
   "cell_type": "code",
   "execution_count": null,
   "metadata": {},
   "outputs": [],
   "source": [
    "print(\"첫 에포크 처리시 accuracy의 값은? : \")\n",
    "answer = float(input())\n",
    "answer1.check13_1(answer)"
   ]
  },
  {
   "cell_type": "code",
   "execution_count": null,
   "metadata": {},
   "outputs": [],
   "source": [
    "print(\"final accuracy의 값은? : \")\n",
    "answer = float(input())\n",
    "answer1.check13_2(answer)"
   ]
  },
  {
   "cell_type": "code",
   "execution_count": null,
   "metadata": {},
   "outputs": [],
   "source": [
    "print(\"answer 파일에 가면 코드가 있습니다.\")"
   ]
  },
  {
   "cell_type": "markdown",
   "metadata": {},
   "source": [
    "# Quiz 14"
   ]
  },
  {
   "cell_type": "markdown",
   "metadata": {},
   "source": [
    "k-Nearest Neighbor이 실제로 사용되지 않는 이유 (맞으면 0, 틀리면1로 네자리 숫자)\n",
    "\n",
    "(1) training time 성능이 나빠서\n",
    "\n",
    "(2) test time 성능이 나빠서\n",
    "\n",
    "(3) distance metrics on pixels are not informative\n",
    "\n",
    "(4) distance metrics on level of whole images are too intuitive\n"
   ]
  },
  {
   "cell_type": "code",
   "execution_count": null,
   "metadata": {},
   "outputs": [],
   "source": [
    "answer = None\n",
    "answer1.check14(answer)"
   ]
  },
  {
   "cell_type": "markdown",
   "metadata": {},
   "source": [
    "# Quiz 15"
   ]
  },
  {
   "cell_type": "markdown",
   "metadata": {},
   "source": [
    "$$ \n",
    "x = \\begin{bmatrix} \n",
    "1 & 2 \\\\\n",
    "3 & 4 \\\\\n",
    "\\end{bmatrix}, \n",
    "y = \\begin{bmatrix}\n",
    "4 \\\\\n",
    "16 \n",
    "\\end{bmatrix}, \n",
    "w = \\begin{bmatrix}\n",
    "2 \\\\\n",
    "2 \n",
    "\\end{bmatrix}, \n",
    "b = \\begin{bmatrix}\n",
    "0 \\\\\n",
    "0\n",
    "\\end{bmatrix} $$   "
   ]
  },
  {
   "cell_type": "code",
   "execution_count": null,
   "metadata": {},
   "outputs": [],
   "source": [
    "x = np.array([\n",
    "              [1, 2],\n",
    "              [3, 4]\n",
    "], dtype='float64')\n",
    "\n",
    "y = np.array([\n",
    "              [4],\n",
    "              [16],\n",
    "], dtype='float64')\n",
    "\n",
    "w = np.array([\n",
    "              [2],\n",
    "              [2],\n",
    "], dtype='float64')\n",
    "\n",
    "b = np.array([\n",
    "              [0],\n",
    "              [0]\n",
    "], dtype='float64')\n"
   ]
  },
  {
   "cell_type": "code",
   "execution_count": null,
   "metadata": {},
   "outputs": [],
   "source": [
    "def forward_neural(x):\n",
    "    global w, b\n",
    "    output = np.matmul(x, w) + b\n",
    "    return output, x\n",
    "\n",
    "def backprop_neural(G_output, x):\n",
    "    global w, b\n",
    "    g_output_w = x.transpose()\n",
    "    \n",
    "    G_w = np.matmul(g_output_w, G_output)\n",
    "    G_b = np.sum(G_output, axis=0)\n",
    "    w -= G_w\n",
    "    b -= G_b\n",
    "    \n",
    "def forward_post(output, y):\n",
    "    diff = output - y\n",
    "    square = np.square(diff)\n",
    "    loss = np.mean(square)\n",
    "    return loss, diff\n",
    "    \n",
    "def backprop_post(diff):\n",
    "    shape = diff.shape\n",
    "    \n",
    "    g_loss_square = np.ones(shape) / np.prod(shape)\n",
    "    g_square_diff = 2 * diff\n",
    "    g_diff_output = 1\n",
    "    \n",
    "    G_loss = 1\n",
    "    G_square = g_loss_square * G_loss\n",
    "    G_diff = g_square_diff * G_square\n",
    "    G_output = g_diff_output * G_diff\n",
    "    \n",
    "    return G_output"
   ]
  },
  {
   "cell_type": "markdown",
   "metadata": {},
   "source": [
    "f1, f2, f3, f4에 위의 함수를 적절히 이용하여 w를 업데이트 하시오. (손으로 계산해서 w[0][0], w[1][0] 자리에 넣어줘도 됨!)\n",
    "단, learning_rate는 1로 가정한다. "
   ]
  },
  {
   "cell_type": "code",
   "execution_count": null,
   "metadata": {},
   "outputs": [],
   "source": [
    "\"\"\"\n",
    "f1\n",
    "f2\n",
    "f3\n",
    "f4\n",
    "\"\"\"\n",
    "answer1.check15(w[0][0], w[1][0])"
   ]
  }
 ],
 "metadata": {
  "kernelspec": {
   "display_name": "Python 3",
   "language": "python",
   "name": "python3"
  },
  "language_info": {
   "codemirror_mode": {
    "name": "ipython",
    "version": 3
   },
   "file_extension": ".py",
   "mimetype": "text/x-python",
   "name": "python",
   "nbconvert_exporter": "python",
   "pygments_lexer": "ipython3",
   "version": "3.8.5"
  }
 },
 "nbformat": 4,
 "nbformat_minor": 4
}
