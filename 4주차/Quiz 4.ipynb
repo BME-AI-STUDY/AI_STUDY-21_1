{
 "cells": [
  {
   "cell_type": "code",
   "execution_count": 2,
   "id": "wicked-lawsuit",
   "metadata": {},
   "outputs": [],
   "source": [
    "import answer4"
   ]
  },
  {
   "cell_type": "markdown",
   "id": "monthly-grammar",
   "metadata": {},
   "source": [
    "# Quiz 1"
   ]
  },
  {
   "cell_type": "markdown",
   "id": "compressed-italic",
   "metadata": {},
   "source": [
    "#### input의 feature의 개수가 10이고, output size가 4인 3 fully connected layer가 있다.\n",
    "#### 첫 번째 계층의 퍼셉트론의 개수는 5이고, 두 번째 계층의 퍼셉트론의 개수가 8일때,\n",
    "#### 총 파라미터(weight와 bias)의 개수와 몇개의 hidden layer neural net을 가지는가?"
   ]
  },
  {
   "cell_type": "code",
   "execution_count": null,
   "id": "internal-siemens",
   "metadata": {},
   "outputs": [],
   "source": [
    "ans1 = input(\"총 파라미터의 개수 : \")\n",
    "ans2 = input(\"hidden layer neural net의 개수 : \")\n",
    "answer4.check1(ans1,ans2)"
   ]
  },
  {
   "cell_type": "markdown",
   "id": "useful-communications",
   "metadata": {},
   "source": [
    "# Quiz 2"
   ]
  },
  {
   "cell_type": "markdown",
   "id": "nuclear-fever",
   "metadata": {},
   "source": [
    "#### 아래 그림을 보고 물음에 답하시오"
   ]
  },
  {
   "cell_type": "markdown",
   "id": "endless-message",
   "metadata": {},
   "source": [
    "![title](image_quiz2.jpg)"
   ]
  },
  {
   "cell_type": "markdown",
   "id": "equivalent-medline",
   "metadata": {},
   "source": [
    "![title](image_quiz2.1.jpg)"
   ]
  },
  {
   "cell_type": "markdown",
   "id": "deluxe-andrew",
   "metadata": {},
   "source": [
    "+ 위 그림에서 어떤 경우(ex: too high learning rate) 아래 그림에서 trainng accuracy와 validation accuracy 사이의 갭이 가장 클 것으로 예상되는지와 learning rate와 training accuracy 사이의 관계가 어떨지 토의해보자."
   ]
  },
  {
   "cell_type": "markdown",
   "id": "ecological-madison",
   "metadata": {},
   "source": [
    "# Quiz 3"
   ]
  },
  {
   "cell_type": "markdown",
   "id": "secure-strip",
   "metadata": {},
   "source": [
    "+ 아래 그림을 보고 알파벳 A~L까지 들어가야할 숫자를 순서대로 적으시오(0또는 1)"
   ]
  },
  {
   "cell_type": "markdown",
   "id": "fleet-senior",
   "metadata": {},
   "source": [
    "![title](image_quiz3.png)"
   ]
  },
  {
   "cell_type": "code",
   "execution_count": null,
   "id": "broadband-print",
   "metadata": {},
   "outputs": [],
   "source": [
    "answer4.check3()"
   ]
  },
  {
   "cell_type": "markdown",
   "id": "medium-minute",
   "metadata": {},
   "source": [
    "# Quiz 4 "
   ]
  },
  {
   "cell_type": "markdown",
   "id": "impossible-category",
   "metadata": {},
   "source": [
    "### CNN 과정에는 Convolutional Layer(이하 CL)과 Pooling Layer(이하 PL)이 존재합니다.\n",
    "### CL에서는 사용되는 개념은 대표적으로 Stride와 Padding이 있고, PL에서는 Pooling이 있습니다.\n",
    "### Stride와 Pooling의 역할의 차이점에 대해 설명해주세요.\n"
   ]
  },
  {
   "cell_type": "markdown",
   "id": "signed-opposition",
   "metadata": {},
   "source": [
    "# Quiz 5"
   ]
  },
  {
   "cell_type": "markdown",
   "id": "driven-walker",
   "metadata": {},
   "source": [
    "\n",
    "$$\n",
    "a = \\begin{bmatrix}\n",
    "1 & 2 & 3 & 4\\\\\n",
    "5 & 6 & 7 & 8\\\\\n",
    "9 & 10 & 11 & 12 \\\\\n",
    "13 & 14 & 15 & 16\n",
    "\\end{bmatrix},\n",
    "max = \\begin{bmatrix}\n",
    "6 & 8\\\\\n",
    "14 & 16\n",
    "\\end{bmatrix},\n",
    "average = \\begin{bmatrix}\n",
    "3.5 & 5.5\\\\\n",
    "11.5 & 13.5\n",
    "\\end{bmatrix}\n",
    "$$"
   ]
  },
  {
   "cell_type": "markdown",
   "id": "changed-martin",
   "metadata": {},
   "source": [
    "+ 위는 a라는 행렬에 대해 stride = 2일때 max pooling과 average pooling을 진행한 모습이다.\n",
    "+ Feature extraction의 관점에서 max pooling과 average pooling이 어떤 의미를 갖는지 서술하시오"
   ]
  },
  {
   "cell_type": "code",
   "execution_count": 6,
   "id": "surface-commander",
   "metadata": {},
   "outputs": [
    {
     "name": "stdout",
     "output_type": "stream",
     "text": [
      "Max Pooling의 경우, stride x stride 범위의 특징 중, 가장 활성화가 많이 된 특징을 extract 한다.\n",
      "Average Pooling의 경우, stride x stride 범위의 특징들의 평균값을 extract 한다.\n",
      "\n",
      "Max Pooling의 경우 stride x stride 범위의 값 중 하나를 제외한 나머지를 버리기 때문에 Feature extraction 측면에서 좋지 않다고 판단할 수 있지만,\n",
      "오히려 가장 특징적인 값을 보존하기 때문에 stride x stride 범위의 지역 특성을 어느정도 유지 가능하다고 볼 수 있다.\n",
      "\n",
      "Average Pooling의 경우 stride x stride개의 특징을 평균내기 때문에 역으로 특징이 모호해진다고 생각할 수 있다.\n"
     ]
    }
   ],
   "source": [
    "answer4.check5()"
   ]
  },
  {
   "cell_type": "markdown",
   "id": "colonial-career",
   "metadata": {},
   "source": [
    "# Quiz 6 "
   ]
  },
  {
   "cell_type": "markdown",
   "id": "naval-sword",
   "metadata": {},
   "source": [
    "+ 다음 중 gradient vanishing / exploding 문제를 해결하기 위해 사용하는 방법으로 올바르지 않은 것을 고르시오.\n",
    "1. Change activation function\n",
    "2. Initialize all the initial weight value to the same\n",
    "3. He initialization\n",
    "4. Batch Normalization\n",
    "5. Set learning rate to small"
   ]
  },
  {
   "cell_type": "code",
   "execution_count": null,
   "id": "hired-robin",
   "metadata": {},
   "outputs": [],
   "source": [
    "answer = int(input())\n",
    "answer4.check6(answer)"
   ]
  },
  {
   "cell_type": "markdown",
   "id": "functional-angle",
   "metadata": {},
   "source": [
    "# Quiz 7 "
   ]
  },
  {
   "cell_type": "markdown",
   "id": "respected-seating",
   "metadata": {},
   "source": [
    "+ ReLU 함수가 비선형 함수에 해당하는 이유를 선형성의 조건과 연관지어 설명하세요."
   ]
  },
  {
   "cell_type": "code",
   "execution_count": 7,
   "id": "august-valuation",
   "metadata": {},
   "outputs": [
    {
     "name": "stdout",
     "output_type": "stream",
     "text": [
      "선형성의 조건으로는 superposition(f(x1+x2) = f(x1) + f(x2_))와 Homogeneity(f(ax1)=af(x1)) 가 있다.\n",
      "그 중 superposition의 조건을 만족하지 못하므로, 비선형 함수이다.\n",
      "ex) x1=-1이고 x2=2일 때, f(-1+2) = 1, f(-1)+f(2) = 2\n"
     ]
    }
   ],
   "source": [
    "answer4.check7()"
   ]
  },
  {
   "cell_type": "markdown",
   "id": "organizational-iraqi",
   "metadata": {},
   "source": [
    "# Quiz 8 "
   ]
  },
  {
   "cell_type": "markdown",
   "id": "declared-solomon",
   "metadata": {},
   "source": [
    "![title](image_quiz8.png)"
   ]
  },
  {
   "cell_type": "markdown",
   "id": "extraordinary-group",
   "metadata": {},
   "source": [
    "위 사진은 CNN인 Alex Net구조이다. \n",
    "+ Q1. 227x227x3인 어떠한 RGB 이미지가첫번째 convolution layer인 Conv1을 거친후 nxnx96의 텐서가 되었는데 n은 몇일까? (Conv1의 경우 stride 4이며 패딩을 따로 하지 않는다.)\n",
    "+ Q2. 그리고 nxnx96이 되기위해서는 몇개의 11x11 filter가 필요한가? \n",
    "+ Q3. Conv2 layer의 경우 filter의 크기가 5x5이다. 그러나 출력되는 텐서의 가로 세로 크기인 27이 유지된다. 이는 padding이라는 작업 때문인데 이 경우 pad의 크기는?? "
   ]
  },
  {
   "cell_type": "code",
   "execution_count": null,
   "id": "homeless-weather",
   "metadata": {},
   "outputs": [],
   "source": [
    "answer = (None, None, None)\n",
    "answer4.check8(answer)"
   ]
  },
  {
   "cell_type": "markdown",
   "id": "infrared-equilibrium",
   "metadata": {},
   "source": [
    "# Quiz 9 "
   ]
  },
  {
   "cell_type": "markdown",
   "id": "available-buyer",
   "metadata": {},
   "source": [
    "+ 가. 다층 퍼셉트론에서 비선형 활성화 함수는 각 계층의 사이의 선형 연산 사이에 놓인다.\n",
    "+ 나. 다층 퍼셉트론에서 비선형 활성화 함수는 없어도 된다.\n",
    "+ 다. 선형 함수는 입력의 증감에 따른 출력의 증감을 한 방향으로만 결정한다.\n",
    "+ 라. ReLU 함수를 이용할 때 x=0에서 미분이 불가능하기 때문에 미분값을 항상 직접 정해주어야 한다."
   ]
  },
  {
   "cell_type": "markdown",
   "id": "minus-imaging",
   "metadata": {},
   "source": [
    "+ 옳은 설명과 틀린 설명을 알아보고, 왜 틀렸는지 생각해 보시오."
   ]
  },
  {
   "cell_type": "code",
   "execution_count": null,
   "id": "grave-berkeley",
   "metadata": {},
   "outputs": [],
   "source": [
    "correct = input(\"@/@ 형식으로 써주세요\")\n",
    "fault = input(\"@/@ 형식으로 써주세요\")\n",
    "\n",
    "answer4.check9(correct, fault)"
   ]
  },
  {
   "cell_type": "markdown",
   "id": "sitting-malta",
   "metadata": {},
   "source": [
    "# Quiz 10 "
   ]
  },
  {
   "cell_type": "markdown",
   "id": "certain-accessory",
   "metadata": {},
   "source": [
    "크기는 32x32이며 채널은 3개를 갖는 이미지에 각각 5x5 filter 1개(a), 3x3 filter 2개(b) 를 사용하여 stride=1로 convolution을 거쳤을 때 output volume size와 parameter 개수를 각각 구하고, 왜 (a)보다 (b)를 사용하는 것이 효과적인지 토의해보자.\n",
    "\n",
    "그리고 7x7 filter 1개와 3x3 filter 3개도 비교해보자.\n",
    "\n",
    "(단, bias는 무시한다.)"
   ]
  },
  {
   "cell_type": "code",
   "execution_count": null,
   "id": "enabling-garbage",
   "metadata": {},
   "outputs": [],
   "source": [
    "a_output_size = [None, None, None]\n",
    "a_parameters = None\n",
    "b_output_size = [None, None, None]\n",
    "b_parameters = None\n",
    "\n",
    "answer4.check10(a_output_size, a_parameters, b_output_size, b_parameters)"
   ]
  },
  {
   "cell_type": "markdown",
   "id": "handy-expansion",
   "metadata": {},
   "source": [
    "# Quiz 11 "
   ]
  },
  {
   "cell_type": "markdown",
   "id": "deluxe-qualification",
   "metadata": {},
   "source": [
    "(오른쪽에서 왼쪽 순) 빈칸에 들어갈 말은?+(o,x)\n",
    "1. input데이터의 크기를 크게 해줘서 특성 맵의 크기를 조절해주고, 데이터 각 픽셀의 영향을 고르게 해주는 과정을 (__)이라고 한다.\n",
    "2. 합성곱 층의 활성화 함수로는 relu함수를 많이 사용한다.(o,x)\n",
    "3. 특성 맵의 크기를 단순히 줄여주는 과정을 (__)이라고 한다. 방식으로는 크게 최대값,평균값을 구한다.\n",
    "\n",
    "<img src=\"image_quiz11.jpg\" height=\"900px\" width=\"900px\">"
   ]
  },
  {
   "cell_type": "code",
   "execution_count": null,
   "id": "happy-grant",
   "metadata": {},
   "outputs": [],
   "source": [
    "answer1_ = ['']\n",
    "answer2_ = ['']\n",
    "answer3_ = ['']\n",
    "answer4.check11(answer1_, answer2_, answer3_)"
   ]
  },
  {
   "cell_type": "markdown",
   "id": "thirty-necessity",
   "metadata": {},
   "source": [
    "# Quiz 12 "
   ]
  },
  {
   "cell_type": "markdown",
   "id": "tamil-contrast",
   "metadata": {},
   "source": [
    "1. 다층 퍼셉트론에서 은닉 계층에 굳이 비선형 활성화 함수를 넣을 필요는 없다.(o/x)\n",
    "2. input shape이 (256X256x3)이고, filter shape이 (4x4x3)일 때, stride=4로 설정하고 총 10개의 filter와 합성곱 연산을 했을 때 output shape은 (63x63x10)이다.(o/x)\n",
    "3. 2번의 상황에서 총 파라미터의 개수는 480개 이다. (o/x)"
   ]
  },
  {
   "cell_type": "code",
   "execution_count": null,
   "id": "judicial-producer",
   "metadata": {},
   "outputs": [],
   "source": [
    "answer4.check12(input(\"정답을 입력해주세요: \"))"
   ]
  },
  {
   "cell_type": "markdown",
   "id": "minor-corner",
   "metadata": {},
   "source": [
    "# Quiz 13 "
   ]
  },
  {
   "cell_type": "markdown",
   "id": "hawaiian-extreme",
   "metadata": {},
   "source": [
    "아래의 질문들에 O,X로 답해라. (ex, 정답은 OXOOX 와 같은 형식으로 작성)\n",
    "1. 출력 계층에서는 비선형 활성화 함수를 사용하지 않는다. (O,X)\n",
    "2. 단층 퍼셉트론은 후처리 과정에서 시그모이드나 소프트맥스 관련 함수를 이용했을 뿐 계층 내부에 비선형 활성화 함수를 따로 두지 않았다. (O,X)\n",
    "3. 비선형연산의 결과는 입력의 일차함수 형태를 띈다. (O,X)\n",
    "4. Convolutional Neural Networks(CNN)은 Fully Connected Layer(FC Layer)와 다르게 input을 stretch하지않고 spatial structure를 보존하지만,\n",
    "   filter가 sliding하여 filter W와 input X에 대해 내적을 할때는 하나의 긴 벡터로 늘려 내적을 수행한다. (O,X)\n",
    "5. 하나의 filter가 image를 sliding하며 내적하여 얻은 값은 activation map의 각 요소가 되며 다음 layer의 input이 된다.(O,X)\n",
    "6. 16x16x5인 input이 있고 2x2x5인 filter가 10개 있으며 stride = 2, padding = 2 일때 output의 volum은 12x12x10이다. (O,X)"
   ]
  },
  {
   "cell_type": "code",
   "execution_count": null,
   "id": "swedish-juvenile",
   "metadata": {},
   "outputs": [],
   "source": [
    "answer13_ = input()\n",
    "answer4.check13(answer13_)"
   ]
  },
  {
   "cell_type": "markdown",
   "id": "least-jefferson",
   "metadata": {},
   "source": [
    "# Quiz 14 "
   ]
  },
  {
   "cell_type": "markdown",
   "id": "incomplete-substance",
   "metadata": {},
   "source": [
    "14_1\n",
    "* (1) activation map에서 하얀 부분이 activation이 낮은 지점, 검은 부분이 activation이 높은 지점이다.\n",
    "* (2) convolution layer에서, 동일한 depth 내의 뉴런들은 동일한 weight, 즉 parameter sharing을 한다.\n",
    "* (3) convolution layer에서, 별개의 activation map에 속하는 동일한 위치의 뉴런들은 input image의 local connectivity를 가지는 같은 곳을 본다.\n",
    "* (4) convolution layer에서, filter depth = image depth, filter 수 = activation map 수 = output depth\n",
    "* (5) pooling layer에서 필요한 것은 필터의 수, stride 이다."
   ]
  },
  {
   "cell_type": "code",
   "execution_count": null,
   "id": "boolean-bulgaria",
   "metadata": {},
   "outputs": [],
   "source": [
    "answer4.check14_1()"
   ]
  },
  {
   "cell_type": "markdown",
   "id": "banner-produce",
   "metadata": {},
   "source": [
    "14_2\n",
    "* (6) pooling layer에서 1/2로 downsampling 하는 설정은? F = [    ], S = [    ] (빈 칸에 들어갈 숫자 입력)\n",
    "* (7) pooling layer에서 parameter 개수? (그냥 답을 확인..)\n",
    "* (8) convolution layer에서, stride=1일 때, 사이즈 보존을 위한 패딩의 수? (그냥 답을 확인..)"
   ]
  },
  {
   "cell_type": "code",
   "execution_count": null,
   "id": "parliamentary-montreal",
   "metadata": {},
   "outputs": [],
   "source": [
    "answer4.check14_2()"
   ]
  }
 ],
 "metadata": {
  "kernelspec": {
   "display_name": "Python 3",
   "language": "python",
   "name": "python3"
  },
  "language_info": {
   "codemirror_mode": {
    "name": "ipython",
    "version": 3
   },
   "file_extension": ".py",
   "mimetype": "text/x-python",
   "name": "python",
   "nbconvert_exporter": "python",
   "pygments_lexer": "ipython3",
   "version": "3.8.5"
  }
 },
 "nbformat": 4,
 "nbformat_minor": 5
}
