{
 "cells": [
  {
   "cell_type": "code",
   "execution_count": 1,
   "id": "killing-huntington",
   "metadata": {},
   "outputs": [],
   "source": [
    "import answer3"
   ]
  },
  {
   "cell_type": "markdown",
   "id": "available-trick",
   "metadata": {},
   "source": [
    "# Quiz1"
   ]
  },
  {
   "cell_type": "markdown",
   "id": "peaceful-person",
   "metadata": {},
   "source": [
    "해결하고자 하는 문제의 종류에 따라 딥러닝 모델이 사용하는 activation function(이하 F)은 다양하다.대표적으로, binary classification에서는 sigmoid F을 사용하고, multiclassification에서는 softmax F을 사용한다. 일반적이진 않지만, multiclassification에서도 sigmoid F을 활용할 수 있다. sigmoid F과 두 가지 함수를 순차적으로 사용하면 된다. 이 두 가지 함수가 무엇인지 쓰세요."
   ]
  },
  {
   "cell_type": "code",
   "execution_count": 2,
   "id": "royal-harris",
   "metadata": {},
   "outputs": [
    {
     "name": "stdin",
     "output_type": "stream",
     "text": [
      "정답을 입력하시오 a\n"
     ]
    },
    {
     "name": "stdout",
     "output_type": "stream",
     "text": [
      "오답\n"
     ]
    }
   ],
   "source": [
    "answer3.check1()"
   ]
  },
  {
   "cell_type": "markdown",
   "id": "continent-scheme",
   "metadata": {},
   "source": [
    "# Quiz2"
   ]
  },
  {
   "cell_type": "markdown",
   "id": "cooperative-receiver",
   "metadata": {},
   "source": [
    "#### 1. 소프트 맥스 교차 엔트로피를 구현 하는 과정에서 아주 작은 양수 값인 ε을 도입하게 되는데 이는 함수값 폭주를 막기 위함이다.(O/X)\n",
    "\n",
    "#### 2. 선택 분류 문제에 시그모이드 함수를 사용하면 각 항목이 답으로 선택될 확률이 구해지며, 그 합이 1로 맞춰진다.(O/X)\n",
    "\n",
    "#### 3. backward flow의 패턴중 max gate는 각각의 하위 단계에 동일한 gradient를 부여한다.(O/X)\n",
    "\n",
    "#### 4. ‘car’에 대한 N-layer Neural Network는 단색의 차만 생각하지 않고, 다른 종류의 차를 찾도록 생각할 수 있다.(O/X)"
   ]
  },
  {
   "cell_type": "code",
   "execution_count": 3,
   "id": "caroline-court",
   "metadata": {},
   "outputs": [
    {
     "name": "stdin",
     "output_type": "stream",
     "text": [
      "정답을 입력하시오 OXXO\n"
     ]
    },
    {
     "name": "stdout",
     "output_type": "stream",
     "text": [
      "무야호~\n"
     ]
    }
   ],
   "source": [
    "answer3.check2()"
   ]
  },
  {
   "cell_type": "markdown",
   "id": "judicial-butler",
   "metadata": {},
   "source": [
    "# Quiz3"
   ]
  },
  {
   "cell_type": "markdown",
   "id": "advanced-museum",
   "metadata": {},
   "source": [
    "![title](image_quiz3.png)"
   ]
  },
  {
   "cell_type": "markdown",
   "id": "capable-singing",
   "metadata": {},
   "source": [
    "+ 위 그림에서 빈칸에 들어갈말은?"
   ]
  },
  {
   "cell_type": "code",
   "execution_count": 4,
   "id": "extensive-referral",
   "metadata": {},
   "outputs": [
    {
     "name": "stdin",
     "output_type": "stream",
     "text": [
      "정답을 입력하시오 a\n"
     ]
    },
    {
     "name": "stdout",
     "output_type": "stream",
     "text": [
      "떙!\n"
     ]
    }
   ],
   "source": [
    "answer3.check3()"
   ]
  },
  {
   "cell_type": "markdown",
   "id": "detected-chart",
   "metadata": {},
   "source": [
    "# Quiz4"
   ]
  },
  {
   "cell_type": "markdown",
   "id": "familiar-paris",
   "metadata": {},
   "source": [
    "![title](image_quiz4.png)"
   ]
  },
  {
   "cell_type": "code",
   "execution_count": null,
   "id": "portable-investing",
   "metadata": {},
   "outputs": [],
   "source": [
    "answer3.check4()"
   ]
  },
  {
   "cell_type": "markdown",
   "id": "circular-corpus",
   "metadata": {},
   "source": [
    "# Quiz 5 "
   ]
  },
  {
   "cell_type": "markdown",
   "id": "engaged-nebraska",
   "metadata": {},
   "source": [
    "여러가지 정보로 타이타닉 생존자(생존 혹은 사망)를 예측하는 프로그램을 만들고자 한다. 다음 모델을 딥러닝을 통해 만들고자 할 때, 이 중 적합한 Activation Function은 (Sigmoid/Softmax)이다. 그 이유는 무엇일까? Score - Probability와 연관지어 설명하시오."
   ]
  },
  {
   "cell_type": "code",
   "execution_count": null,
   "id": "incorporated-absorption",
   "metadata": {},
   "outputs": [],
   "source": [
    "answer3.check5()"
   ]
  },
  {
   "cell_type": "markdown",
   "id": "international-television",
   "metadata": {},
   "source": [
    "# Quiz 6 "
   ]
  },
  {
   "cell_type": "markdown",
   "id": "functioning-carroll",
   "metadata": {},
   "source": [
    "+ 다음은 교재의 코드 일부를 가져온 것이다.\n",
    "+ x.shape = (N,a), w.shape = (a,b) 라고 할 때, \n",
    "+ output, y, loss, G_entropy, G_output의 shape를 적어라!\n",
    "+ (단, forward_neuralnet에서는 선형 계산만 이뤄진다.)"
   ]
  },
  {
   "cell_type": "code",
   "execution_count": null,
   "id": "weighted-token",
   "metadata": {},
   "outputs": [],
   "source": [
    "def run_train(x, y):\n",
    "    output, aux_nn = forward_neuralnet(x)\n",
    "    loss, aux_pp = forward_postproc(output, y)\n",
    "    \n",
    "    G_loss = 1.0\n",
    "    G_output = backprop_postproc(G_loss, aux_pp)\n",
    "    backprop_neuralnet(G_output, aux_nn)\n",
    "\n",
    "def forward_postproc(output, y):\n",
    "    entropy = softmax_cross_entropy_with_logits(y, output) \n",
    "    loss = np.mean(entropy) \n",
    "\n",
    "def backprop_postproc(G_loss, aux):\n",
    "    y, output, entropy = aux\n",
    "    \n",
    "    g_loss_entropy = 1.0 / np.prod(entropy.shape)\n",
    "    g_entropy_output = softmax_cross_entropy_with_logits_derv(y, output)\n",
    "    \n",
    "    G_entropy = g_loss_entropy * G_loss(1)\n",
    "    G_output = g_entropy_output * G_entropy\n",
    "    \n",
    "def softmax_cross_entropy_with_logits(labels, logits):\n",
    "    probs = softmax(logits) \n",
    "    return -np.sum(labels * np.log(probs + 1.0e-10), axis=1) \n",
    "\n",
    "def softmax_cross_entropy_with_logits_derv(labels, logits):\n",
    "    return softmax(logits) - labels\n",
    "\n",
    "def softmax(x):\n",
    "    max_elem = np.max(x, axis=1)\n",
    "    diff = (x.transpose() - max_elem).transpose()\n",
    "    exp = np.exp(diff)\n",
    "    sum_exp = np.sum(exp, axis=1)\n",
    "    probs = (exp.transpose() / sum_exp).transpose()\n",
    "    return probs"
   ]
  },
  {
   "cell_type": "code",
   "execution_count": 5,
   "id": "thirty-magic",
   "metadata": {},
   "outputs": [
    {
     "name": "stdin",
     "output_type": "stream",
     "text": [
      "output의 shape: (N,b)\n",
      "y의 shape: (N,b)\n",
      "loss의 shape (1)\n",
      "G_entropy의 shape: (1)\n",
      "G_output의 shape: (N,b)\n"
     ]
    },
    {
     "name": "stdout",
     "output_type": "stream",
     "text": [
      "\n",
      "answer_1 : 정답\n",
      "answer_2 : 정답\n",
      "answer_3 : 정답\n",
      "answer_4 : 정답\n",
      "answer_5 : 정답\n"
     ]
    }
   ],
   "source": [
    "# 정답은 (A,B) 형태로 적어주세요! (A,1)이나 (1,A)는 (A)로, (1,1)은 (1) 로 적어주세요!\n",
    "answer_1 = input('output의 shape:')\n",
    "answer_2 = input('y의 shape:')\n",
    "answer_3 = input('loss의 shape')\n",
    "answer_4 = input('G_entropy의 shape:')\n",
    "answer_5 = input('G_output의 shape:')\n",
    "\n",
    "answer3.check6(answer_1, answer_2, answer_3, answer_4, answer_5)"
   ]
  },
  {
   "cell_type": "markdown",
   "id": "indoor-prophet",
   "metadata": {},
   "source": [
    "# Quiz 7 "
   ]
  },
  {
   "cell_type": "markdown",
   "id": "present-telescope",
   "metadata": {},
   "source": [
    "![image](image_quiz7.jpg)"
   ]
  },
  {
   "cell_type": "markdown",
   "id": "smoking-spice",
   "metadata": {},
   "source": [
    "+ 순서대로 답하시오. (\"\" 안에 글자로 적으시오) (e**x 는 e^x로 표현)"
   ]
  },
  {
   "cell_type": "code",
   "execution_count": null,
   "id": "capital-indie",
   "metadata": {},
   "outputs": [],
   "source": [
    "answer_1 = input(\"\")\n",
    "answer_2 = input(\"\")\n",
    "answer_3 = input(\"\")\n",
    "\n",
    "answer3.check7(answer_1, answer_2, answer_3)"
   ]
  },
  {
   "cell_type": "markdown",
   "id": "macro-copper",
   "metadata": {},
   "source": [
    "# Quiz 8 "
   ]
  },
  {
   "cell_type": "markdown",
   "id": "vocal-freight",
   "metadata": {},
   "source": [
    "+ Q. 선택 분류의 과정에서 있어 굳이 로짓값을 확률로 변환하지 않아도 로짓값이 크면 확률도 크다는 개념을 토대로 가장 큰 로짓값을 갖는 항목을 선택하여 가장 높은 확률을 갖는 항목을 선택할 수 있다.이로서 선택분류 자체의 문제는 해결되었다고 볼 수 있는데, 왜 굳이 로짓값을 확률값으로 변환시키는 과정이 필요한지 설명하시오."
   ]
  },
  {
   "cell_type": "code",
   "execution_count": 6,
   "id": "norman-purse",
   "metadata": {},
   "outputs": [
    {
     "name": "stdout",
     "output_type": "stream",
     "text": [
      "단순히 한차례 선택분류를 할 것이 아닌 이후의 데이터를 가지고 학습을 시켜 새로운 데이터가 들어와도 제대로 분류할 수 있게끔 해야하기 때문이다.\n",
      "따라서 확률값으로 변환시켜 확률값을 토대로 weight를 조정하여 학습을 시키는 과정이 이후에 이루어진다\n"
     ]
    }
   ],
   "source": [
    "answer3.check8()"
   ]
  },
  {
   "cell_type": "markdown",
   "id": "important-encounter",
   "metadata": {},
   "source": [
    "# Quiz 9"
   ]
  },
  {
   "cell_type": "markdown",
   "id": "integral-george",
   "metadata": {},
   "source": [
    "+ 번호로 매겨진 빈칸에 들어갈 말로 옳은 것을 고르고,(ㄱ)에 들어갈 말을 쓰시오.\n",
    "\n",
    "Input에 대한 Gradient를 구하는 과정에서 Foward pass를 통해 (1)[              ]를 구할 수 있고, backward pass를 통해 (2)[               ]를 구할 수 있다. 최종적으로 이들을 (ㄱ)[          ]을 이용해 곱해줌으로써 gradient를 얻을 수 있다. Backward propagation을 진행하는 가장 처음 단계에서 df/df의 값은 (3)[ ]이다."
   ]
  },
  {
   "cell_type": "markdown",
   "id": "surgical-earth",
   "metadata": {},
   "source": [
    "+ <보기>\n",
    "1. global gradient, local gradient, 1   ;\n",
    "2. global gradient, local gradient, -1   ;\n",
    "3. global gradient, local gradient, 0   ;\n",
    "4. local gradient, global gradient, 1   ;\n",
    "5. local gradient, global gradient, -1   ;\n",
    "6. local gradient, global gradient, 0   ;"
   ]
  },
  {
   "cell_type": "code",
   "execution_count": 8,
   "id": "funded-priority",
   "metadata": {},
   "outputs": [
    {
     "name": "stdout",
     "output_type": "stream",
     "text": [
      "정답입니다.\n"
     ]
    },
    {
     "name": "stdin",
     "output_type": "stream",
     "text": [
      "(ㄱ)에 들어갈 단어를 영문으로 작성하시오. chainrule\n"
     ]
    },
    {
     "name": "stdout",
     "output_type": "stream",
     "text": [
      "정답입니다.\n"
     ]
    }
   ],
   "source": [
    "answer_1 = 4  #숫자만 고르시오.\n",
    "answer3.check9_1(answer_1)\n",
    "answer_2 = input('(ㄱ)에 들어갈 단어를 영문으로 작성하시오.')\n",
    "answer3.check9_2(answer_2)\n",
    "# 대문자,소문자 때문에 오답이 날 수도 있으니 정답을 확인해 주세요."
   ]
  },
  {
   "cell_type": "markdown",
   "id": "jewish-knitting",
   "metadata": {},
   "source": [
    "# Quiz 10"
   ]
  },
  {
   "cell_type": "markdown",
   "id": "prescribed-funeral",
   "metadata": {},
   "source": [
    "x가 1024-d 벡터이고 y= f(x) 일때, 벡터 y의 size를 쓰세요. dy/dx의 jacobian matrix의 size를 쓰세요. 그리고 함수 f(x)가 element wise 함수이기때문에 jacobian marix는 diagnol marix이다. 그러다면 이 diagnol matrix의 원소들 중 0이 아닌 원소의 수는?? \n",
    "\n",
    "(함수 f(x)는  max(x,0) 인 element wise funciton이다.)  "
   ]
  },
  {
   "cell_type": "code",
   "execution_count": null,
   "id": "sweet-circular",
   "metadata": {},
   "outputs": [],
   "source": [
    "answer = (None, None, None)\n",
    "answer3.check10(answer)"
   ]
  },
  {
   "cell_type": "markdown",
   "id": "molecular-spanking",
   "metadata": {},
   "source": [
    "# Quiz 11"
   ]
  },
  {
   "cell_type": "markdown",
   "id": "opposed-portugal",
   "metadata": {},
   "source": [
    "#### input x와 label y, weight w 가 다음과 같을 때 소프트맥스 교차 엔트로피의 편미분을 사용하여 다음 질문에 대답하세요!~\n",
    "$$ \n",
    "x = \\begin{bmatrix} \n",
    "1 & 2 &3\n",
    "\\end{bmatrix}, \n",
    "y = \\begin{bmatrix}\n",
    "1 & 0\n",
    "\\end{bmatrix}, \n",
    "w = \\begin{bmatrix}\n",
    "1 & 2 \\\\\n",
    "0.5 & 0.5 \\\\\n",
    "1 & 1 \\\\\n",
    "\\end{bmatrix}\n",
    "$$   "
   ]
  },
  {
   "cell_type": "markdown",
   "id": "lovely-orchestra",
   "metadata": {},
   "source": [
    "#### 그림에서 a,b,c,d 에 들어갈 값을 계산해주세요!~ (단 p1, p2 계산할 때 소수점 셋째자리에서 반올림 해주세요.)\n",
    "<img src=\"image_quiz11.jpg\" height=\"600px\" width=\"600px\">"
   ]
  },
  {
   "cell_type": "code",
   "execution_count": 6,
   "id": "happy-support",
   "metadata": {},
   "outputs": [
    {
     "name": "stdout",
     "output_type": "stream",
     "text": [
      "ㄱ 오답\n",
      "ㄴ 오답\n",
      "ㄷ 오답\n",
      "ㄹ 오답\n"
     ]
    }
   ],
   "source": [
    "a= None\n",
    "b= None\n",
    "c= None\n",
    "d= None\n",
    "\n",
    "\n",
    "answer_1= [a,b,c,d]\n",
    "answer3.check11(answer_1)"
   ]
  },
  {
   "cell_type": "markdown",
   "id": "forward-surveillance",
   "metadata": {},
   "source": [
    "# Quiz 12"
   ]
  },
  {
   "cell_type": "markdown",
   "id": "tutorial-lafayette",
   "metadata": {},
   "source": [
    "1장에서 사용했던 전복데이터의 7가지 특징값으로 전복의 성별을 결정할 수 있다고 가정해보자.(전복의 성별은 3가지이다.) \n",
    "input 벡터, 로짓값 벡터, 확률값 벡터 각각의 크기를 구하시오. 또한 퍼셉트론의 개수는? 단 미니배치의 크기는 'n'이라고 생각한다."
   ]
  },
  {
   "cell_type": "code",
   "execution_count": null,
   "id": "armed-thailand",
   "metadata": {},
   "outputs": [],
   "source": [
    "input_vector = [None,None]\n",
    "logits_vector = [None,None]\n",
    "probability = [None,None]\n",
    "number_of_perceptron = None\n",
    "answer3.check12(input_vector, logits_vector, probability, number_of_perceptron)"
   ]
  },
  {
   "cell_type": "markdown",
   "id": "painted-maine",
   "metadata": {},
   "source": [
    "# Quiz 13 "
   ]
  },
  {
   "cell_type": "markdown",
   "id": "located-edwards",
   "metadata": {},
   "source": [
    "$$ x = \n",
    "\\begin{bmatrix} \n",
    "1 & 0 \\\\\n",
    "0 & 1 \n",
    "\\end{bmatrix}, \n",
    "w = \\begin{bmatrix} \n",
    "1 \\\\ \n",
    "2 \\\\\n",
    "\\end{bmatrix}, \n",
    "y = [0.5]\n",
    "$$\n",
    "일 때, $$ \\sum_{i=0}^1 \\frac{\\partial f}{\\partial w_{i}}  $$를 구하여라.\n",
    "\n",
    "\n",
    "<img src=\"image_quiz13.jpg\" height=\"600px\" width=\"600px\">"
   ]
  },
  {
   "cell_type": "code",
   "execution_count": null,
   "id": "activated-component",
   "metadata": {},
   "outputs": [],
   "source": [
    "answer3.check13(input(\"정답을 입력해주세요: \"))"
   ]
  },
  {
   "cell_type": "markdown",
   "id": "subjective-operator",
   "metadata": {},
   "source": [
    "# Quiz 14 "
   ]
  },
  {
   "cell_type": "markdown",
   "id": "olive-harris",
   "metadata": {},
   "source": [
    "백워드 패스에서 gradient distributor에 대해 맞는 것?\n",
    "* 1) * 연산, gradient를 local gradient와 동일한 값으로 전파하는 역할\n",
    "* 2) * 연산, gradient를 global gradient와 동일한 값으로 전파하는 역할\n",
    "* 3) + 연산, gradient를 global gradient와 동일한 값으로 전파하는 역할"
   ]
  },
  {
   "cell_type": "code",
   "execution_count": null,
   "id": "announced-airfare",
   "metadata": {},
   "outputs": [],
   "source": [
    "answer_2 = int(input())\n",
    "answer3.check14(answer_2)"
   ]
  },
  {
   "cell_type": "markdown",
   "id": "spoken-cradle",
   "metadata": {},
   "source": [
    "# Quiz 15 "
   ]
  },
  {
   "cell_type": "markdown",
   "id": "acute-petroleum",
   "metadata": {},
   "source": [
    "1. input vector x와 output vector y가 모두 2048-d일때 gradient dy/dx는 jacobian matrix가 된다. (O,X)\n",
    "2. 1에서 만든 jacobian matrix는 diagonal matrix이다. (O,X)\n",
    "3. 1에서 만든 jacobian matrix의 차원은 2048이다. (O,X)\n",
    "4. backpropagation은 chain rule을 통해 모든 inputs/parameters/intermediates 의 gradient를 계산하는 과정이다. (O,X)\n",
    "5. ReLU 함수는 f = max(0, x)이다. 이 함수는 linear function이다. (O,X)"
   ]
  },
  {
   "cell_type": "code",
   "execution_count": null,
   "id": "swedish-possession",
   "metadata": {},
   "outputs": [],
   "source": [
    "answer_3 = input()\n",
    "answer3.check15(answer_3)"
   ]
  }
 ],
 "metadata": {
  "kernelspec": {
   "display_name": "Python 3",
   "language": "python",
   "name": "python3"
  },
  "language_info": {
   "codemirror_mode": {
    "name": "ipython",
    "version": 3
   },
   "file_extension": ".py",
   "mimetype": "text/x-python",
   "name": "python",
   "nbconvert_exporter": "python",
   "pygments_lexer": "ipython3",
   "version": "3.8.5"
  }
 },
 "nbformat": 4,
 "nbformat_minor": 5
}
